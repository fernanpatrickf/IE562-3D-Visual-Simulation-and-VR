{
  "nbformat": 4,
  "nbformat_minor": 0,
  "metadata": {
    "kernelspec": {
      "display_name": "Python 3",
      "language": "python",
      "name": "python3"
    },
    "language_info": {
      "codemirror_mode": {
        "name": "ipython",
        "version": 3
      },
      "file_extension": ".py",
      "mimetype": "text/x-python",
      "name": "python",
      "nbconvert_exporter": "python",
      "pygments_lexer": "ipython3",
      "version": "3.6.10"
    },
    "colab": {
      "name": "2. NN with policy interacts with 3D Ball (MLAgent 10).ipynb",
      "provenance": []
    }
  },
  "cells": [
    {
      "cell_type": "code",
      "metadata": {
        "id": "GRObB0mXmZhq"
      },
      "source": [
        "import torch\n",
        "import torch.nn as nn\n",
        "import torch.nn.functional as F\n",
        "from torch.distributions import Normal\n",
        "import numpy as np\n",
        "\n",
        "from mlagents_envs.environment import UnityEnvironment"
      ],
      "execution_count": null,
      "outputs": []
    },
    {
      "cell_type": "code",
      "metadata": {
        "id": "JTDJ8jn3mZh5",
        "outputId": "2903d42b-7074-42d1-baaa-9fd1da0b86da"
      },
      "source": [
        "if(torch.cuda.is_available()):\n",
        "    device = torch.device(\"cuda\")\n",
        "    print(device, torch.cuda.get_device_name(0))\n",
        "else:\n",
        "    device= torch.device(\"cpu\")\n",
        "    print(device)"
      ],
      "execution_count": null,
      "outputs": [
        {
          "name": "stdout",
          "output_type": "stream",
          "text": [
            "cpu\n"
          ]
        },
        {
          "name": "stderr",
          "output_type": "stream",
          "text": [
            "C:\\Users\\admin\\Anaconda3\\envs\\PyTorch-MLAgent\\lib\\site-packages\\torch\\cuda\\__init__.py:52: UserWarning: CUDA initialization: The NVIDIA driver on your system is too old (found version 9010). Please update your GPU driver by downloading and installing a new version from the URL: http://www.nvidia.com/Download/index.aspx Alternatively, go to: https://pytorch.org to install a PyTorch version that has been compiled with your version of the CUDA driver. (Triggered internally at  ..\\c10\\cuda\\CUDAFunctions.cpp:100.)\n",
            "  return torch._C._cuda_getDeviceCount() > 0\n"
          ]
        }
      ]
    },
    {
      "cell_type": "code",
      "metadata": {
        "id": "wrBlsgb_mZh9"
      },
      "source": [
        "N_STATES  = 210\n",
        "N_ACTIONS =4"
      ],
      "execution_count": null,
      "outputs": []
    },
    {
      "cell_type": "code",
      "metadata": {
        "id": "_nq51-A-mZh-",
        "outputId": "7b967e0a-3d55-4a0f-84ef-7482065dd459"
      },
      "source": [
        "#generate a tensor of size (1, N_Actions)\n",
        "a = torch.ones(1, N_ACTIONS)\n",
        "print(a, a.shape)"
      ],
      "execution_count": null,
      "outputs": [
        {
          "name": "stdout",
          "output_type": "stream",
          "text": [
            "tensor([[1., 1.]]) torch.Size([1, 2])\n"
          ]
        }
      ]
    },
    {
      "cell_type": "code",
      "metadata": {
        "id": "_AxgxcqRmZh_",
        "outputId": "ca5f011e-2d06-4ba6-9fc7-775fe530bae7"
      },
      "source": [
        "#become a NN parameter with gradients\n",
        "a = nn.Parameter(torch.ones(1, N_ACTIONS) * 0.0)\n",
        "print(a)"
      ],
      "execution_count": null,
      "outputs": [
        {
          "name": "stdout",
          "output_type": "stream",
          "text": [
            "Parameter containing:\n",
            "tensor([[0., 0.]], requires_grad=True)\n"
          ]
        }
      ]
    },
    {
      "cell_type": "code",
      "metadata": {
        "id": "0mgn-NTTmZiB",
        "outputId": "4da40f07-18e8-4045-c3e4-dfb461b6f2cd"
      },
      "source": [
        "#generate a NN parameter [0, 0]\n",
        "log_std = nn.Parameter(torch.ones(1, N_ACTIONS) * 0.0)\n",
        "print(log_std)"
      ],
      "execution_count": null,
      "outputs": [
        {
          "name": "stdout",
          "output_type": "stream",
          "text": [
            "Parameter containing:\n",
            "tensor([[0., 0.]], requires_grad=True)\n"
          ]
        }
      ]
    },
    {
      "cell_type": "code",
      "metadata": {
        "id": "icEw50_YmZiD",
        "outputId": "f5bcdad2-87b0-4812-c0b4-07cc38afdad5"
      },
      "source": [
        "log_std.exp()"
      ],
      "execution_count": null,
      "outputs": [
        {
          "data": {
            "text/plain": [
              "tensor([[1., 1.]], grad_fn=<ExpBackward>)"
            ]
          },
          "execution_count": 7,
          "metadata": {},
          "output_type": "execute_result"
        }
      ]
    },
    {
      "cell_type": "code",
      "metadata": {
        "id": "p3Yntpk_mZiF"
      },
      "source": [
        "mu = torch.FloatTensor([[1, 1, 1, 1]])"
      ],
      "execution_count": null,
      "outputs": []
    },
    {
      "cell_type": "code",
      "metadata": {
        "id": "nYn8w1atmZiH",
        "outputId": "d62b16eb-b809-423f-89a8-baccb3b67885"
      },
      "source": [
        "#expand as the size of mu\n",
        "log_std.exp().expand_as(mu)"
      ],
      "execution_count": null,
      "outputs": [
        {
          "data": {
            "text/plain": [
              "tensor([[1., 1.]], grad_fn=<ExpandBackward>)"
            ]
          },
          "execution_count": 9,
          "metadata": {},
          "output_type": "execute_result"
        }
      ]
    },
    {
      "cell_type": "code",
      "metadata": {
        "id": "FGhCm8MkmZiJ"
      },
      "source": [
        "def init_weights(m):\n",
        "    if isinstance(m, nn.Linear):\n",
        "        nn.init.normal_(m.weight, mean=0., std=0.1)\n",
        "        nn.init.constant_(m.bias, 0.1)"
      ],
      "execution_count": null,
      "outputs": []
    },
    {
      "cell_type": "code",
      "metadata": {
        "id": "g8myd-uUmZiK"
      },
      "source": [
        "class Net(nn.Module):\n",
        "    def __init__(self, ):\n",
        "        super(Net, self).__init__()\n",
        "        \n",
        "        self.actor = nn.Sequential(\n",
        "            nn.Linear(N_STATES, 256),\n",
        "            nn.LayerNorm(256),\n",
        "            nn.Linear(256, 256),\n",
        "            nn.LayerNorm(256),\n",
        "            nn.Linear(256, N_ACTIONS)\n",
        "        )\n",
        "        self.log_std = nn.Parameter(torch.ones(1, N_ACTIONS) * 0.0)\n",
        "        self.apply(init_weights)\n",
        "    \n",
        "    def forward(self, x):\n",
        "        mu    = self.actor(x)\n",
        "        std   = self.log_std.exp().expand_as(mu)\n",
        "        dist  = Normal(mu, std)\n",
        "        return dist"
      ],
      "execution_count": null,
      "outputs": []
    },
    {
      "cell_type": "code",
      "metadata": {
        "id": "B827GoiQmZiL"
      },
      "source": [
        "net = Net().to(device)"
      ],
      "execution_count": null,
      "outputs": []
    },
    {
      "cell_type": "markdown",
      "metadata": {
        "id": "O9utBxEvmZiM"
      },
      "source": [
        "### Connect to Unity"
      ]
    },
    {
      "cell_type": "code",
      "metadata": {
        "id": "tDAQoSNrmZiO",
        "outputId": "67f2842d-90ef-4390-ca4e-b520c794cc14"
      },
      "source": [
        "env = UnityEnvironment(file_name= None, base_port=5004)"
      ],
      "execution_count": null,
      "outputs": [
        {
          "name": "stderr",
          "output_type": "stream",
          "text": [
            "WARNING: The communication API versions between Unity and python differ at the minor version level. Python API: 1.2.0, Unity API: 1.5.\n",
            "This means that some features may not work unless you upgrade the package with the lower version.Please find the versions that work best together from our release page.\n",
            "https://github.com/Unity-Technologies/ml-agents/releases\n"
          ]
        }
      ]
    },
    {
      "cell_type": "code",
      "metadata": {
        "id": "rY2NB7VmmZiR"
      },
      "source": [
        "env.reset()\n",
        "behaviorNames = list(env.behavior_specs.keys())\n",
        "behaviorName = behaviorNames[0]"
      ],
      "execution_count": null,
      "outputs": []
    },
    {
      "cell_type": "code",
      "metadata": {
        "id": "st-Zc2ACmZiS"
      },
      "source": [
        "DecisionSteps, TerminalSteps = env.get_steps(behaviorName)"
      ],
      "execution_count": null,
      "outputs": []
    },
    {
      "cell_type": "markdown",
      "metadata": {
        "id": "ggBcuMTDmZiT"
      },
      "source": [
        "### Send decision steps to NN to calculate actions"
      ]
    },
    {
      "cell_type": "code",
      "metadata": {
        "id": "oeAtD4aimZiT",
        "outputId": "5a7cb928-597b-4307-8777-aad775c84ac9"
      },
      "source": [
        "DecisionSteps.obs"
      ],
      "execution_count": null,
      "outputs": [
        {
          "data": {
            "text/plain": [
              "[array([[-0.01467304, -0.01468306, -0.5208206 ,  4.        , -0.79952097,\n",
              "          0.        ,  0.        ,  0.        ],\n",
              "        [-0.02614026,  0.03401016, -0.45768166,  4.        , -0.0055027 ,\n",
              "          0.        ,  0.        ,  0.        ],\n",
              "        [ 0.06363224,  0.03799658, -1.1360741 ,  4.        , -0.4150591 ,\n",
              "          0.        ,  0.        ,  0.        ]], dtype=float32)]"
            ]
          },
          "execution_count": 16,
          "metadata": {},
          "output_type": "execute_result"
        }
      ]
    },
    {
      "cell_type": "code",
      "metadata": {
        "id": "koqzUQzTmZiU"
      },
      "source": [
        "states = DecisionSteps.obs[0]"
      ],
      "execution_count": null,
      "outputs": []
    },
    {
      "cell_type": "code",
      "metadata": {
        "id": "-kNA9QuZmZiV"
      },
      "source": [
        "states = torch.FloatTensor(states).to(device)"
      ],
      "execution_count": null,
      "outputs": []
    },
    {
      "cell_type": "code",
      "metadata": {
        "id": "8vEN_XjQmZiW",
        "outputId": "11633cae-7c2a-4472-93ad-32e4a724d697"
      },
      "source": [
        "dist = net(states)\n",
        "print(dist)"
      ],
      "execution_count": null,
      "outputs": [
        {
          "name": "stdout",
          "output_type": "stream",
          "text": [
            "Normal(loc: torch.Size([3, 2]), scale: torch.Size([3, 2]))\n"
          ]
        }
      ]
    },
    {
      "cell_type": "code",
      "metadata": {
        "id": "oSZXtwOcmZiW",
        "outputId": "a406d082-dc85-4122-8a2f-5b6e4e7a71d1"
      },
      "source": [
        "actions = dist.sample()\n",
        "print(actions, actions.shape)"
      ],
      "execution_count": null,
      "outputs": [
        {
          "name": "stdout",
          "output_type": "stream",
          "text": [
            "tensor([[ 4.2590,  1.0900],\n",
            "        [ 0.3650,  1.4251],\n",
            "        [ 2.1630, -0.7001]]) torch.Size([3, 2])\n"
          ]
        }
      ]
    },
    {
      "cell_type": "code",
      "metadata": {
        "id": "iXlAIQw1mZiX",
        "outputId": "60afa6e4-b0b5-45e2-a210-dff786fbb8c7"
      },
      "source": [
        "actions = actions.cpu().detach().numpy()\n",
        "print(actions)"
      ],
      "execution_count": null,
      "outputs": [
        {
          "name": "stdout",
          "output_type": "stream",
          "text": [
            "[[ 4.2590265   1.0899847 ]\n",
            " [ 0.36503994  1.4251024 ]\n",
            " [ 2.1630166  -0.70009315]]\n"
          ]
        }
      ]
    },
    {
      "cell_type": "code",
      "metadata": {
        "id": "bafHWOTwmZiZ"
      },
      "source": [
        "env.set_actions(behaviorName, actions)"
      ],
      "execution_count": null,
      "outputs": []
    },
    {
      "cell_type": "code",
      "metadata": {
        "id": "OIFAs81jmZiZ"
      },
      "source": [
        "env.step()"
      ],
      "execution_count": null,
      "outputs": []
    },
    {
      "cell_type": "code",
      "metadata": {
        "id": "jsPx8EqFmZiZ"
      },
      "source": [
        "env.close()"
      ],
      "execution_count": null,
      "outputs": []
    },
    {
      "cell_type": "markdown",
      "metadata": {
        "id": "s2z_K1TgmZiZ"
      },
      "source": [
        "# Play for N steps"
      ]
    },
    {
      "cell_type": "code",
      "metadata": {
        "id": "enqzAfnCmZia",
        "outputId": "080f3e34-f7fe-4a3b-d86b-803638f6f932"
      },
      "source": [
        "env = UnityEnvironment(file_name= None, base_port=5004)"
      ],
      "execution_count": null,
      "outputs": [
        {
          "name": "stderr",
          "output_type": "stream",
          "text": [
            "WARNING: The communication API versions between Unity and python differ at the minor version level. Python API: 1.2.0, Unity API: 1.5.\n",
            "This means that some features may not work unless you upgrade the package with the lower version.Please find the versions that work best together from our release page.\n",
            "https://github.com/Unity-Technologies/ml-agents/releases\n"
          ]
        }
      ]
    },
    {
      "cell_type": "code",
      "metadata": {
        "id": "IW9_k4QNmZia"
      },
      "source": [
        "env.reset()\n",
        "behaviorNames = list(env.behavior_specs.keys())\n",
        "behaviorName = behaviorNames[0]"
      ],
      "execution_count": null,
      "outputs": []
    },
    {
      "cell_type": "code",
      "metadata": {
        "id": "JuymApgvmZia",
        "outputId": "b0cce321-2193-49f2-e466-c0d6a905fe83"
      },
      "source": [
        "for frame in range(200):\n",
        "    DecisionSteps, TerminalSteps = env.get_steps(behaviorName)\n",
        "    for AgentID in TerminalSteps.agent_id:\n",
        "        print(\"step\", frame, \"agent \", AgentID, \"has terminal step\")\n",
        "    \n",
        "    if(len(list(DecisionSteps.agent_id))>0):\n",
        "        state = DecisionSteps.obs[0]\n",
        "        state = torch.FloatTensor(state).to(device)\n",
        "        dist = net(state)\n",
        "        action = dist.sample()\n",
        "        action = action.cpu().detach().numpy()    \n",
        "        env.set_actions(behaviorName, action)   \n",
        "        env.step()"
      ],
      "execution_count": null,
      "outputs": [
        {
          "name": "stdout",
          "output_type": "stream",
          "text": [
            "step 22 agent  2 has terminal step\n",
            "step 38 agent  1 has terminal step\n",
            "step 49 agent  0 has terminal step\n",
            "step 61 agent  2 has terminal step\n",
            "step 70 agent  1 has terminal step\n",
            "step 83 agent  0 has terminal step\n",
            "step 92 agent  2 has terminal step\n",
            "step 97 agent  1 has terminal step\n",
            "step 106 agent  0 has terminal step\n",
            "step 125 agent  2 has terminal step\n",
            "step 128 agent  1 has terminal step\n",
            "step 132 agent  0 has terminal step\n",
            "step 147 agent  2 has terminal step\n",
            "step 157 agent  1 has terminal step\n",
            "step 169 agent  2 has terminal step\n",
            "step 173 agent  0 has terminal step\n",
            "step 186 agent  1 has terminal step\n",
            "step 188 agent  2 has terminal step\n",
            "step 198 agent  0 has terminal step\n"
          ]
        }
      ]
    },
    {
      "cell_type": "code",
      "metadata": {
        "id": "ksJ0aS0pmZib"
      },
      "source": [
        "env.close()"
      ],
      "execution_count": null,
      "outputs": []
    },
    {
      "cell_type": "code",
      "metadata": {
        "id": "tYsmycFCmZib"
      },
      "source": [
        ""
      ],
      "execution_count": null,
      "outputs": []
    }
  ]
}