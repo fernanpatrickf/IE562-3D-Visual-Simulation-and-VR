{
 "cells": [
  {
   "cell_type": "code",
   "execution_count": 1,
   "metadata": {
    "id": "GRObB0mXmZhq"
   },
   "outputs": [],
   "source": [
    "import torch\n",
    "import torch.nn as nn\n",
    "import torch.nn.functional as F\n",
    "from torch.distributions import Normal\n",
    "import numpy as np\n",
    "\n",
    "from mlagents_envs.environment import UnityEnvironment"
   ]
  },
  {
   "cell_type": "code",
   "execution_count": 2,
   "metadata": {
    "id": "JTDJ8jn3mZh5",
    "outputId": "2903d42b-7074-42d1-baaa-9fd1da0b86da"
   },
   "outputs": [
    {
     "name": "stdout",
     "output_type": "stream",
     "text": [
      "cuda NVIDIA GeForce RTX 2060\n"
     ]
    }
   ],
   "source": [
    "if(torch.cuda.is_available()):\n",
    "    device = torch.device(\"cuda\")\n",
    "    print(device, torch.cuda.get_device_name(0))\n",
    "else:\n",
    "    device= torch.device(\"cpu\")\n",
    "    print(device)"
   ]
  },
  {
   "cell_type": "code",
   "execution_count": 3,
   "metadata": {
    "id": "wrBlsgb_mZh9"
   },
   "outputs": [],
   "source": [
    "N_STATES  = 210\n",
    "N_ACTIONS = 4"
   ]
  },
  {
   "cell_type": "code",
   "execution_count": 4,
   "metadata": {
    "id": "_nq51-A-mZh-",
    "outputId": "7b967e0a-3d55-4a0f-84ef-7482065dd459"
   },
   "outputs": [
    {
     "name": "stdout",
     "output_type": "stream",
     "text": [
      "tensor([[1., 1., 1., 1.]]) torch.Size([1, 4])\n"
     ]
    }
   ],
   "source": [
    "#generate a tensor of size (1, N_Actions)\n",
    "a = torch.ones(1, N_ACTIONS)\n",
    "print(a, a.shape)"
   ]
  },
  {
   "cell_type": "code",
   "execution_count": 5,
   "metadata": {
    "id": "_AxgxcqRmZh_",
    "outputId": "ca5f011e-2d06-4ba6-9fc7-775fe530bae7"
   },
   "outputs": [
    {
     "name": "stdout",
     "output_type": "stream",
     "text": [
      "Parameter containing:\n",
      "tensor([[0., 0., 0., 0.]], requires_grad=True)\n"
     ]
    }
   ],
   "source": [
    "#become a NN parameter with gradients\n",
    "a = nn.Parameter(torch.ones(1, N_ACTIONS) * 0.0)\n",
    "print(a)"
   ]
  },
  {
   "cell_type": "code",
   "execution_count": 6,
   "metadata": {
    "id": "0mgn-NTTmZiB",
    "outputId": "4da40f07-18e8-4045-c3e4-dfb461b6f2cd"
   },
   "outputs": [
    {
     "name": "stdout",
     "output_type": "stream",
     "text": [
      "Parameter containing:\n",
      "tensor([[0., 0., 0., 0.]], requires_grad=True)\n"
     ]
    }
   ],
   "source": [
    "#generate a NN parameter [0, 0]\n",
    "log_std = nn.Parameter(torch.ones(1, N_ACTIONS) * 0.0)\n",
    "print(log_std)"
   ]
  },
  {
   "cell_type": "code",
   "execution_count": 7,
   "metadata": {
    "id": "icEw50_YmZiD",
    "outputId": "f5bcdad2-87b0-4812-c0b4-07cc38afdad5"
   },
   "outputs": [
    {
     "data": {
      "text/plain": [
       "tensor([[1., 1., 1., 1.]], grad_fn=<ExpBackward>)"
      ]
     },
     "execution_count": 7,
     "metadata": {},
     "output_type": "execute_result"
    }
   ],
   "source": [
    "log_std.exp()"
   ]
  },
  {
   "cell_type": "code",
   "execution_count": 8,
   "metadata": {
    "id": "p3Yntpk_mZiF"
   },
   "outputs": [],
   "source": [
    "mu = torch.FloatTensor([[1, 1, 1, 1]])"
   ]
  },
  {
   "cell_type": "code",
   "execution_count": 9,
   "metadata": {
    "id": "nYn8w1atmZiH",
    "outputId": "d62b16eb-b809-423f-89a8-baccb3b67885",
    "scrolled": true
   },
   "outputs": [
    {
     "data": {
      "text/plain": [
       "tensor([[1., 1., 1., 1.]], grad_fn=<ExpandBackward>)"
      ]
     },
     "execution_count": 9,
     "metadata": {},
     "output_type": "execute_result"
    }
   ],
   "source": [
    "#expand as the size of mu\n",
    "log_std.exp().expand_as(mu)"
   ]
  },
  {
   "cell_type": "code",
   "execution_count": 10,
   "metadata": {
    "id": "FGhCm8MkmZiJ"
   },
   "outputs": [],
   "source": [
    "def init_weights(m):\n",
    "    if isinstance(m, nn.Linear):\n",
    "        nn.init.normal_(m.weight, mean=0., std=0.1)\n",
    "        nn.init.constant_(m.bias, 0.1)"
   ]
  },
  {
   "cell_type": "code",
   "execution_count": 11,
   "metadata": {
    "id": "g8myd-uUmZiK"
   },
   "outputs": [],
   "source": [
    "class Net(nn.Module):\n",
    "    def __init__(self, ):\n",
    "        super(Net, self).__init__()\n",
    "        \n",
    "        self.actor = nn.Sequential(\n",
    "            nn.Linear(N_STATES, 256),\n",
    "            nn.LayerNorm(256),\n",
    "            nn.Linear(256, 256),\n",
    "            nn.LayerNorm(256),\n",
    "            nn.Linear(256, N_ACTIONS)\n",
    "        )\n",
    "        self.log_std = nn.Parameter(torch.ones(1, N_ACTIONS) * 0.0)\n",
    "        self.apply(init_weights)\n",
    "    \n",
    "    def forward(self, x):\n",
    "        mu    = self.actor(x)\n",
    "        std   = self.log_std.exp().expand_as(mu)\n",
    "        dist  = Normal(mu, std)\n",
    "        return dist"
   ]
  },
  {
   "cell_type": "code",
   "execution_count": 12,
   "metadata": {
    "id": "B827GoiQmZiL"
   },
   "outputs": [],
   "source": [
    "net = Net().to(device)"
   ]
  },
  {
   "cell_type": "markdown",
   "metadata": {
    "id": "O9utBxEvmZiM"
   },
   "source": [
    "### Connect to Unity"
   ]
  },
  {
   "cell_type": "code",
   "execution_count": 13,
   "metadata": {
    "id": "tDAQoSNrmZiO",
    "outputId": "67f2842d-90ef-4390-ca4e-b520c794cc14"
   },
   "outputs": [],
   "source": [
    "env = UnityEnvironment(file_name= None, base_port=5004)"
   ]
  },
  {
   "cell_type": "code",
   "execution_count": 14,
   "metadata": {
    "id": "rY2NB7VmmZiR"
   },
   "outputs": [],
   "source": [
    "env.reset()\n",
    "behaviorNames = list(env.behavior_specs.keys())\n",
    "behaviorName = behaviorNames[0]"
   ]
  },
  {
   "cell_type": "code",
   "execution_count": 15,
   "metadata": {
    "id": "st-Zc2ACmZiS"
   },
   "outputs": [],
   "source": [
    "DecisionSteps, TerminalSteps = env.get_steps(behaviorName)"
   ]
  },
  {
   "cell_type": "markdown",
   "metadata": {
    "id": "ggBcuMTDmZiT"
   },
   "source": [
    "### Send decision steps to NN to calculate actions"
   ]
  },
  {
   "cell_type": "code",
   "execution_count": 16,
   "metadata": {
    "id": "oeAtD4aimZiT",
    "outputId": "5a7cb928-597b-4307-8777-aad775c84ac9"
   },
   "outputs": [
    {
     "data": {
      "text/plain": [
       "[array([[0., 0., 0., 0., 0., 0., 0., 0., 0., 0., 0., 0., 0., 0., 0., 0.,\n",
       "         0., 0., 0., 0., 0., 0., 0., 0., 0., 0., 0., 0., 0., 0., 0., 0.,\n",
       "         0., 0., 0., 0., 0., 0., 0., 0., 0., 0., 0., 0., 0., 0., 0., 0.,\n",
       "         0., 0., 0., 0., 0., 0., 0., 0., 0., 0., 0., 0., 0., 0., 0., 0.,\n",
       "         0., 0., 0., 0., 0., 0., 0., 0., 0., 0., 0., 0., 0., 0., 0., 0.,\n",
       "         0., 0., 0., 0., 0., 0., 0., 0., 0., 0., 0., 0., 0., 0., 0., 0.,\n",
       "         0., 0., 0., 0., 0., 0., 0., 0., 0., 0., 0., 0., 0., 0., 0., 0.,\n",
       "         0., 0., 0., 0., 0., 0., 0., 0., 0., 0., 0., 0., 0., 0., 0., 0.,\n",
       "         0., 0., 0., 0., 0., 0., 0., 0., 0., 0., 0., 0., 0., 0., 0., 0.,\n",
       "         0., 0., 0., 0., 0., 0., 0., 0., 0., 0., 0., 0., 0., 0., 0., 0.,\n",
       "         0., 0., 0., 0., 0., 0., 0., 0., 0., 0., 0., 0., 0., 0., 0., 0.,\n",
       "         0., 0., 1., 1., 0., 0., 0., 1., 1., 0., 0., 0., 1., 1., 0., 0.,\n",
       "         0., 1., 1., 0., 0., 0., 1., 1., 0., 0., 0., 1., 1., 0., 0., 0.,\n",
       "         1., 1.]], dtype=float32),\n",
       " array([[0., 0., 0., 0., 0., 0., 0., 0., 0., 0., 0., 0., 0., 0., 0., 0.,\n",
       "         0., 0., 0., 0., 0., 0., 0., 0., 0., 0., 0., 0., 0., 0., 0., 0.,\n",
       "         0., 0., 0., 0., 0., 0., 0., 0., 0., 0., 0., 0., 0., 0., 0., 0.,\n",
       "         0., 0., 0., 0., 0., 0., 0., 0., 0., 0., 0., 0., 0., 0., 0., 0.,\n",
       "         0., 0., 0., 0., 0., 0., 0., 0., 0., 0., 0., 0., 0., 0., 0., 0.,\n",
       "         0., 0., 0., 0., 0., 0., 0., 0., 0., 0., 0., 0., 0., 0., 0., 0.,\n",
       "         0., 0., 0., 0., 0., 0., 0., 0., 0., 0., 0., 0., 0., 0., 0., 0.,\n",
       "         0., 0., 0., 0., 0., 0., 0., 0., 0., 0., 0., 0., 0., 0., 0., 0.,\n",
       "         0., 0., 0., 0., 0., 0., 0., 0., 0., 0., 0., 0., 0., 0., 0., 0.,\n",
       "         0., 0., 0., 0., 0., 0., 0., 0., 0., 0., 0., 0., 0., 0., 0., 0.,\n",
       "         0., 0., 0., 0., 0., 0., 0., 0., 0., 0., 0., 0., 0., 0., 0., 0.,\n",
       "         0., 0., 1., 1., 0., 0., 0., 1., 1., 0., 0., 0., 1., 1., 0., 0.,\n",
       "         0., 1., 1., 0., 0., 0., 1., 1., 0., 0., 0., 1., 1., 0., 0., 0.,\n",
       "         1., 1.]], dtype=float32),\n",
       " array([[ 0.        ,  0.        ,  0.        ,  0.        ,  0.        ,\n",
       "          0.        ,  0.        ,  0.        ,  0.        ,  0.        ,\n",
       "          0.        ,  0.        ,  0.        ,  0.        ,  0.        ,\n",
       "          0.        ,  0.        ,  0.        ,  0.        ,  0.        ,\n",
       "          0.23985633,  0.05      , -0.4       ,  1.        ]],\n",
       "       dtype=float32)]"
      ]
     },
     "execution_count": 16,
     "metadata": {},
     "output_type": "execute_result"
    }
   ],
   "source": [
    "DecisionSteps.obs"
   ]
  },
  {
   "cell_type": "code",
   "execution_count": 17,
   "metadata": {
    "id": "koqzUQzTmZiU"
   },
   "outputs": [],
   "source": [
    "states = DecisionSteps.obs[0]"
   ]
  },
  {
   "cell_type": "code",
   "execution_count": 18,
   "metadata": {
    "id": "-kNA9QuZmZiV"
   },
   "outputs": [],
   "source": [
    "states = torch.FloatTensor(states).to(device)"
   ]
  },
  {
   "cell_type": "code",
   "execution_count": 19,
   "metadata": {
    "id": "8vEN_XjQmZiW",
    "outputId": "11633cae-7c2a-4472-93ad-32e4a724d697"
   },
   "outputs": [
    {
     "name": "stdout",
     "output_type": "stream",
     "text": [
      "Normal(loc: torch.Size([1, 4]), scale: torch.Size([1, 4]))\n"
     ]
    }
   ],
   "source": [
    "dist = net(states)\n",
    "print(dist)"
   ]
  },
  {
   "cell_type": "code",
   "execution_count": 20,
   "metadata": {
    "id": "oSZXtwOcmZiW",
    "outputId": "a406d082-dc85-4122-8a2f-5b6e4e7a71d1"
   },
   "outputs": [
    {
     "name": "stdout",
     "output_type": "stream",
     "text": [
      "tensor([[-1.5006, -0.0490,  2.3654,  2.7857]], device='cuda:0') torch.Size([1, 4])\n"
     ]
    }
   ],
   "source": [
    "actions = dist.sample()\n",
    "print(actions, actions.shape)"
   ]
  },
  {
   "cell_type": "code",
   "execution_count": 21,
   "metadata": {
    "id": "iXlAIQw1mZiX",
    "outputId": "60afa6e4-b0b5-45e2-a210-dff786fbb8c7"
   },
   "outputs": [
    {
     "name": "stdout",
     "output_type": "stream",
     "text": [
      "[[-1.5005676  -0.04895395  2.3654416   2.7857432 ]]\n"
     ]
    }
   ],
   "source": [
    "actions = actions.cpu().detach().numpy()\n",
    "print(actions)"
   ]
  },
  {
   "cell_type": "code",
   "execution_count": 22,
   "metadata": {
    "id": "bafHWOTwmZiZ"
   },
   "outputs": [],
   "source": [
    "env.set_actions(behaviorName, actions)"
   ]
  },
  {
   "cell_type": "code",
   "execution_count": 23,
   "metadata": {
    "id": "OIFAs81jmZiZ"
   },
   "outputs": [],
   "source": [
    "env.step()"
   ]
  },
  {
   "cell_type": "code",
   "execution_count": 24,
   "metadata": {
    "id": "jsPx8EqFmZiZ"
   },
   "outputs": [],
   "source": [
    "env.close()"
   ]
  },
  {
   "cell_type": "markdown",
   "metadata": {
    "id": "s2z_K1TgmZiZ"
   },
   "source": [
    "# Play for N steps"
   ]
  },
  {
   "cell_type": "code",
   "execution_count": 25,
   "metadata": {
    "id": "enqzAfnCmZia",
    "outputId": "080f3e34-f7fe-4a3b-d86b-803638f6f932"
   },
   "outputs": [],
   "source": [
    "env = UnityEnvironment(file_name= None, base_port=5004)"
   ]
  },
  {
   "cell_type": "code",
   "execution_count": 26,
   "metadata": {
    "id": "IW9_k4QNmZia"
   },
   "outputs": [],
   "source": [
    "env.reset()\n",
    "behaviorNames = list(env.behavior_specs.keys())\n",
    "behaviorName = behaviorNames[0]"
   ]
  },
  {
   "cell_type": "code",
   "execution_count": 27,
   "metadata": {
    "id": "JuymApgvmZia",
    "outputId": "b0cce321-2193-49f2-e466-c0d6a905fe83"
   },
   "outputs": [
    {
     "name": "stdout",
     "output_type": "stream",
     "text": [
      "step 1 agent  0 has terminal step\n",
      "step 2 agent  0 has terminal step\n",
      "step 3 agent  0 has terminal step\n",
      "step 4 agent  0 has terminal step\n",
      "step 5 agent  0 has terminal step\n",
      "step 6 agent  0 has terminal step\n",
      "step 7 agent  0 has terminal step\n",
      "step 8 agent  0 has terminal step\n",
      "step 9 agent  0 has terminal step\n",
      "step 10 agent  0 has terminal step\n",
      "step 11 agent  0 has terminal step\n",
      "step 12 agent  0 has terminal step\n",
      "step 13 agent  0 has terminal step\n",
      "step 14 agent  0 has terminal step\n",
      "step 15 agent  0 has terminal step\n",
      "step 16 agent  0 has terminal step\n",
      "step 17 agent  0 has terminal step\n",
      "step 18 agent  0 has terminal step\n",
      "step 19 agent  0 has terminal step\n",
      "step 20 agent  0 has terminal step\n",
      "step 21 agent  0 has terminal step\n",
      "step 22 agent  0 has terminal step\n",
      "step 23 agent  0 has terminal step\n",
      "step 24 agent  0 has terminal step\n",
      "step 25 agent  0 has terminal step\n",
      "step 26 agent  0 has terminal step\n",
      "step 27 agent  0 has terminal step\n",
      "step 28 agent  0 has terminal step\n",
      "step 29 agent  0 has terminal step\n",
      "step 30 agent  0 has terminal step\n",
      "step 31 agent  0 has terminal step\n",
      "step 32 agent  0 has terminal step\n",
      "step 33 agent  0 has terminal step\n",
      "step 34 agent  0 has terminal step\n",
      "step 35 agent  0 has terminal step\n",
      "step 36 agent  0 has terminal step\n",
      "step 37 agent  0 has terminal step\n",
      "step 38 agent  0 has terminal step\n",
      "step 39 agent  0 has terminal step\n",
      "step 40 agent  0 has terminal step\n",
      "step 41 agent  0 has terminal step\n",
      "step 42 agent  0 has terminal step\n",
      "step 43 agent  0 has terminal step\n",
      "step 44 agent  0 has terminal step\n",
      "step 45 agent  0 has terminal step\n",
      "step 46 agent  0 has terminal step\n",
      "step 47 agent  0 has terminal step\n",
      "step 48 agent  0 has terminal step\n",
      "step 49 agent  0 has terminal step\n",
      "step 50 agent  0 has terminal step\n",
      "step 51 agent  0 has terminal step\n",
      "step 52 agent  0 has terminal step\n",
      "step 53 agent  0 has terminal step\n",
      "step 54 agent  0 has terminal step\n",
      "step 55 agent  0 has terminal step\n",
      "step 56 agent  0 has terminal step\n",
      "step 57 agent  0 has terminal step\n",
      "step 58 agent  0 has terminal step\n",
      "step 59 agent  0 has terminal step\n",
      "step 60 agent  0 has terminal step\n",
      "step 61 agent  0 has terminal step\n",
      "step 62 agent  0 has terminal step\n",
      "step 63 agent  0 has terminal step\n",
      "step 64 agent  0 has terminal step\n",
      "step 65 agent  0 has terminal step\n",
      "step 66 agent  0 has terminal step\n",
      "step 67 agent  0 has terminal step\n",
      "step 68 agent  0 has terminal step\n",
      "step 69 agent  0 has terminal step\n",
      "step 70 agent  0 has terminal step\n",
      "step 71 agent  0 has terminal step\n",
      "step 72 agent  0 has terminal step\n",
      "step 73 agent  0 has terminal step\n",
      "step 74 agent  0 has terminal step\n",
      "step 75 agent  0 has terminal step\n",
      "step 76 agent  0 has terminal step\n",
      "step 77 agent  0 has terminal step\n",
      "step 78 agent  0 has terminal step\n",
      "step 79 agent  0 has terminal step\n",
      "step 80 agent  0 has terminal step\n",
      "step 81 agent  0 has terminal step\n",
      "step 82 agent  0 has terminal step\n",
      "step 83 agent  0 has terminal step\n",
      "step 84 agent  0 has terminal step\n",
      "step 85 agent  0 has terminal step\n",
      "step 86 agent  0 has terminal step\n",
      "step 87 agent  0 has terminal step\n",
      "step 88 agent  0 has terminal step\n",
      "step 89 agent  0 has terminal step\n",
      "step 90 agent  0 has terminal step\n",
      "step 91 agent  0 has terminal step\n",
      "step 92 agent  0 has terminal step\n",
      "step 93 agent  0 has terminal step\n",
      "step 94 agent  0 has terminal step\n",
      "step 95 agent  0 has terminal step\n",
      "step 96 agent  0 has terminal step\n",
      "step 97 agent  0 has terminal step\n",
      "step 98 agent  0 has terminal step\n",
      "step 99 agent  0 has terminal step\n",
      "step 100 agent  0 has terminal step\n",
      "step 101 agent  0 has terminal step\n",
      "step 102 agent  0 has terminal step\n",
      "step 103 agent  0 has terminal step\n",
      "step 104 agent  0 has terminal step\n",
      "step 105 agent  0 has terminal step\n",
      "step 106 agent  0 has terminal step\n",
      "step 107 agent  0 has terminal step\n",
      "step 108 agent  0 has terminal step\n",
      "step 109 agent  0 has terminal step\n",
      "step 110 agent  0 has terminal step\n",
      "step 111 agent  0 has terminal step\n",
      "step 112 agent  0 has terminal step\n",
      "step 113 agent  0 has terminal step\n",
      "step 114 agent  0 has terminal step\n",
      "step 115 agent  0 has terminal step\n",
      "step 116 agent  0 has terminal step\n",
      "step 117 agent  0 has terminal step\n",
      "step 118 agent  0 has terminal step\n",
      "step 119 agent  0 has terminal step\n",
      "step 120 agent  0 has terminal step\n",
      "step 121 agent  0 has terminal step\n",
      "step 122 agent  0 has terminal step\n",
      "step 123 agent  0 has terminal step\n",
      "step 124 agent  0 has terminal step\n",
      "step 125 agent  0 has terminal step\n",
      "step 126 agent  0 has terminal step\n",
      "step 127 agent  0 has terminal step\n",
      "step 128 agent  0 has terminal step\n",
      "step 129 agent  0 has terminal step\n",
      "step 130 agent  0 has terminal step\n",
      "step 131 agent  0 has terminal step\n",
      "step 132 agent  0 has terminal step\n",
      "step 133 agent  0 has terminal step\n",
      "step 134 agent  0 has terminal step\n",
      "step 135 agent  0 has terminal step\n",
      "step 136 agent  0 has terminal step\n",
      "step 137 agent  0 has terminal step\n",
      "step 138 agent  0 has terminal step\n",
      "step 139 agent  0 has terminal step\n",
      "step 140 agent  0 has terminal step\n",
      "step 141 agent  0 has terminal step\n",
      "step 142 agent  0 has terminal step\n",
      "step 143 agent  0 has terminal step\n",
      "step 144 agent  0 has terminal step\n",
      "step 145 agent  0 has terminal step\n",
      "step 146 agent  0 has terminal step\n",
      "step 147 agent  0 has terminal step\n",
      "step 148 agent  0 has terminal step\n",
      "step 149 agent  0 has terminal step\n",
      "step 150 agent  0 has terminal step\n",
      "step 151 agent  0 has terminal step\n",
      "step 152 agent  0 has terminal step\n",
      "step 153 agent  0 has terminal step\n",
      "step 154 agent  0 has terminal step\n",
      "step 155 agent  0 has terminal step\n",
      "step 156 agent  0 has terminal step\n",
      "step 157 agent  0 has terminal step\n",
      "step 158 agent  0 has terminal step\n",
      "step 159 agent  0 has terminal step\n",
      "step 160 agent  0 has terminal step\n",
      "step 161 agent  0 has terminal step\n",
      "step 162 agent  0 has terminal step\n",
      "step 163 agent  0 has terminal step\n",
      "step 164 agent  0 has terminal step\n",
      "step 165 agent  0 has terminal step\n",
      "step 166 agent  0 has terminal step\n",
      "step 167 agent  0 has terminal step\n",
      "step 168 agent  0 has terminal step\n",
      "step 169 agent  0 has terminal step\n",
      "step 170 agent  0 has terminal step\n",
      "step 171 agent  0 has terminal step\n",
      "step 172 agent  0 has terminal step\n",
      "step 173 agent  0 has terminal step\n",
      "step 174 agent  0 has terminal step\n",
      "step 175 agent  0 has terminal step\n",
      "step 176 agent  0 has terminal step\n",
      "step 177 agent  0 has terminal step\n",
      "step 178 agent  0 has terminal step\n",
      "step 179 agent  0 has terminal step\n",
      "step 180 agent  0 has terminal step\n",
      "step 181 agent  0 has terminal step\n",
      "step 182 agent  0 has terminal step\n",
      "step 183 agent  0 has terminal step\n",
      "step 184 agent  0 has terminal step\n",
      "step 185 agent  0 has terminal step\n",
      "step 186 agent  0 has terminal step\n",
      "step 187 agent  0 has terminal step\n",
      "step 188 agent  0 has terminal step\n",
      "step 189 agent  0 has terminal step\n",
      "step 190 agent  0 has terminal step\n",
      "step 191 agent  0 has terminal step\n",
      "step 192 agent  0 has terminal step\n",
      "step 193 agent  0 has terminal step\n",
      "step 194 agent  0 has terminal step\n",
      "step 195 agent  0 has terminal step\n",
      "step 196 agent  0 has terminal step\n",
      "step 197 agent  0 has terminal step\n",
      "step 198 agent  0 has terminal step\n",
      "step 199 agent  0 has terminal step\n"
     ]
    }
   ],
   "source": [
    "for frame in range(200):\n",
    "    DecisionSteps, TerminalSteps = env.get_steps(behaviorName)\n",
    "    for AgentID in TerminalSteps.agent_id:\n",
    "        print(\"step\", frame, \"agent \", AgentID, \"has terminal step\")\n",
    "    \n",
    "    if(len(list(DecisionSteps.agent_id))>0):\n",
    "        state = DecisionSteps.obs[0]\n",
    "        state = torch.FloatTensor(state).to(device)\n",
    "        dist = net(state)\n",
    "        action = dist.sample()\n",
    "        action = action.cpu().detach().numpy()    \n",
    "        env.set_actions(behaviorName, action)   \n",
    "        env.step()"
   ]
  },
  {
   "cell_type": "code",
   "execution_count": 28,
   "metadata": {
    "id": "ksJ0aS0pmZib"
   },
   "outputs": [],
   "source": [
    "env.close()"
   ]
  },
  {
   "cell_type": "code",
   "execution_count": null,
   "metadata": {
    "id": "tYsmycFCmZib"
   },
   "outputs": [],
   "source": []
  }
 ],
 "metadata": {
  "colab": {
   "name": "2. NN with policy interacts with 3D Ball (MLAgent 10).ipynb",
   "provenance": []
  },
  "kernelspec": {
   "display_name": "Python 3",
   "language": "python",
   "name": "python3"
  },
  "language_info": {
   "codemirror_mode": {
    "name": "ipython",
    "version": 3
   },
   "file_extension": ".py",
   "mimetype": "text/x-python",
   "name": "python",
   "nbconvert_exporter": "python",
   "pygments_lexer": "ipython3",
   "version": "3.6.13"
  }
 },
 "nbformat": 4,
 "nbformat_minor": 1
}
